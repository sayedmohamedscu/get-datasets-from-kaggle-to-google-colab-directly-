{
  "nbformat": 4,
  "nbformat_minor": 0,
  "metadata": {
    "colab": {
      "name": "get data from kaggle to google colab directly ",
      "version": "0.3.2",
      "provenance": [],
      "include_colab_link": true
    },
    "kernelspec": {
      "name": "python3",
      "display_name": "Python 3"
    }
  },
  "cells": [
    {
      "cell_type": "markdown",
      "metadata": {
        "id": "view-in-github",
        "colab_type": "text"
      },
      "source": [
        "<a href=\"https://colab.research.google.com/github/sayedmohamedscu/get-datasets-from-kaggle-to-google-colab-directly-/blob/master/get_data_from_kaggle_to_google_colab_directly.ipynb\" target=\"_parent\"><img src=\"https://colab.research.google.com/assets/colab-badge.svg\" alt=\"Open In Colab\"/></a>"
      ]
    },
    {
      "metadata": {
        "id": "Gh8OzYWueBsd",
        "colab_type": "code",
        "colab": {}
      },
      "cell_type": "code",
      "source": [
        "!pip install kaggle"
      ],
      "execution_count": 0,
      "outputs": []
    },
    {
      "metadata": {
        "id": "WG9t-DwdePtf",
        "colab_type": "code",
        "colab": {}
      },
      "cell_type": "code",
      "source": [
        "!mkdir .kaggle"
      ],
      "execution_count": 0,
      "outputs": []
    },
    {
      "metadata": {
        "id": "aH-pM-KweSjQ",
        "colab_type": "text"
      },
      "cell_type": "markdown",
      "source": [
        "open your kaggle account\n",
        "\n",
        "click on create new api token -----> that will download a json file \n",
        "which contain token = {\"username\":\"your name\",\"key\":\"your key\"}\n",
        "\n",
        "open the file and get the {\"username\":\"your name\",\"key\":\"your key\"}\n",
        "\n",
        "upload the file to the colab \n",
        "\n",
        "\n",
        "\n"
      ]
    },
    {
      "metadata": {
        "id": "rUWtGHazeQbr",
        "colab_type": "code",
        "colab": {}
      },
      "cell_type": "code",
      "source": [
        "import json\n",
        "token = {\"username\":\"tesla2\",\"key\":\"cfcghhhjjj6io99hjjj789999\"}\n",
        "with open(\"/content/.kaggle/kaggle.json\", \"w\") as file:\n",
        "    json.dump(token, file)"
      ],
      "execution_count": 0,
      "outputs": []
    },
    {
      "metadata": {
        "id": "nM7k1EfZeT5j",
        "colab_type": "code",
        "colab": {}
      },
      "cell_type": "code",
      "source": [
        "!ls"
      ],
      "execution_count": 0,
      "outputs": []
    },
    {
      "metadata": {
        "id": "ZOpIPH7seWpx",
        "colab_type": "code",
        "colab": {}
      },
      "cell_type": "code",
      "source": [
        "!chmod 600 /content/.kaggle/kaggle.json"
      ],
      "execution_count": 0,
      "outputs": []
    },
    {
      "metadata": {
        "id": "W909XnAPedOd",
        "colab_type": "code",
        "colab": {}
      },
      "cell_type": "code",
      "source": [
        "!cp /content/kaggle.json ~/.kaggle/kaggle.json"
      ],
      "execution_count": 0,
      "outputs": []
    },
    {
      "metadata": {
        "id": "t_WEDxq-efe-",
        "colab_type": "code",
        "colab": {}
      },
      "cell_type": "code",
      "source": [
        "!kaggle config set -n path -v{/content}"
      ],
      "execution_count": 0,
      "outputs": []
    },
    {
      "metadata": {
        "id": "aM2zil6IeikR",
        "colab_type": "text"
      },
      "cell_type": "markdown",
      "source": [
        "go to your dataset in kaggle and copy the api command of the dataset like in the image \n",
        "\n",
        "\n",
        "\n",
        "![alt text](https://3.bp.blogspot.com/-QLiDC5f_dpw/XJFLX7PrcGI/AAAAAAAAIR4/Ez6M-lGTZgooYmG0JvNPui3gwycSQTBpwCLcBGAs/s1600/xzz.jpg)\n",
        "\n",
        "add the api command instade of the api  in the    \n",
        "\n",
        "!kaggle datasets download -d ronitf/heart-disease-uci -p /content\n",
        "\n"
      ]
    },
    {
      "metadata": {
        "id": "NeA66bdDegNk",
        "colab_type": "code",
        "colab": {}
      },
      "cell_type": "code",
      "source": [
        "!kaggle datasets download -d ronitf/heart-disease-uci -p /content"
      ],
      "execution_count": 0,
      "outputs": []
    },
    {
      "metadata": {
        "id": "NHGaUcVSkAi-",
        "colab_type": "text"
      },
      "cell_type": "markdown",
      "source": [
        "any question sayedmohamedscu@gmail.com"
      ]
    }
  ]
}